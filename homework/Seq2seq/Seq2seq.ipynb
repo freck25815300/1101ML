{
 "cells": [
  {
   "cell_type": "code",
   "execution_count": null,
   "id": "80692d18",
   "metadata": {},
   "outputs": [
    {
     "name": "stdout",
     "output_type": "stream",
     "text": [
      "Pretrained model has been loaded.\n",
      "\n"
     ]
    }
   ],
   "source": [
    "from model.Encoder import VanillaEncoder\n",
    "from model.Decoder import VanillaDecoder\n",
    "from model.Seq2Seq import Seq2Seq\n",
    "from dataset.DataHelper import DataTransformer\n",
    "from train import Trainer\n",
    "from config import config\n",
    "\n",
    "\n",
    "def main():\n",
    "    data_transformer = DataTransformer(config.dataset_path, use_cuda=config.use_cuda)\n",
    "\n",
    "    vanilla_encoder = VanillaEncoder(vocab_size=data_transformer.vocab_size,\n",
    "                                     embedding_size=config.encoder_embedding_size,\n",
    "                                     output_size=config.encoder_output_size)\n",
    "\n",
    "    vanilla_decoder = VanillaDecoder(hidden_size=config.decoder_hidden_size,\n",
    "                                     output_size=data_transformer.vocab_size,\n",
    "                                     max_length=data_transformer.max_length,\n",
    "                                     teacher_forcing_ratio=config.teacher_forcing_ratio,\n",
    "                                     sos_id=data_transformer.SOS_ID,\n",
    "                                     use_cuda=config.use_cuda)\n",
    "    if config.use_cuda:\n",
    "        vanilla_encoder = vanilla_encoder.cuda()\n",
    "        vanilla_decoder = vanilla_decoder.cuda()\n",
    "\n",
    "    seq2seq = Seq2Seq(encoder=vanilla_encoder,\n",
    "                      decoder=vanilla_decoder)\n",
    "\n",
    "    trainer = Trainer(seq2seq, data_transformer, config.learning_rate, config.use_cuda)\n",
    "    trainer.load_model()\n",
    "\n",
    "    while(True):\n",
    "        testing_word = input('You say: ')\n",
    "        if testing_word == \"exit\":\n",
    "            break\n",
    "        results = trainer.evaluate(testing_word)\n",
    "        print(\"Model says: %s\" % results[0])\n",
    "\n",
    "if __name__ == \"__main__\":\n",
    "    main()\n"
   ]
  },
  {
   "cell_type": "code",
   "execution_count": null,
   "id": "2c68c55a",
   "metadata": {},
   "outputs": [],
   "source": []
  }
 ],
 "metadata": {
  "kernelspec": {
   "display_name": "Python 3",
   "language": "python",
   "name": "python3"
  },
  "language_info": {
   "codemirror_mode": {
    "name": "ipython",
    "version": 3
   },
   "file_extension": ".py",
   "mimetype": "text/x-python",
   "name": "python",
   "nbconvert_exporter": "python",
   "pygments_lexer": "ipython3",
   "version": "3.8.8"
  }
 },
 "nbformat": 4,
 "nbformat_minor": 5
}
